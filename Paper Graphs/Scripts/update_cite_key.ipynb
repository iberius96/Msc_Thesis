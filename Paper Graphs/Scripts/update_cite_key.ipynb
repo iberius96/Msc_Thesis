{
 "cells": [
  {
   "cell_type": "code",
   "execution_count": 10,
   "metadata": {},
   "outputs": [],
   "source": [
    "import pandas as pd\n",
    "import biblib.bib\n",
    "import re"
   ]
  },
  {
   "cell_type": "code",
   "execution_count": 192,
   "metadata": {},
   "outputs": [],
   "source": [
    "authors = \"Ay{\\c s}e Berna Altınel\"\n",
    "invalid = '<>:\"/\\|?*{}'\n",
    "\n",
    "authors = re.sub(r'\\\\. ', '', authors)\n",
    "authors = re.sub(r'\\\\.', '', authors)\n",
    "\n",
    "invalid = '<>:\"/\\|?*{}'\n",
    "for char in invalid: authors = authors.replace(char, '')\n"
   ]
  },
  {
   "cell_type": "code",
   "execution_count": 206,
   "metadata": {},
   "outputs": [],
   "source": [
    "def build_cite_key(authors, year, title):\n",
    "    invalid = '<>:\"/\\|?*{}()\\''\n",
    "\n",
    "    authors = re.sub(r'\\\\. ', '', authors)\n",
    "    authors = re.sub(r'\\\\.', '', authors)\n",
    "    authors = authors.replace('ı', 'i')\n",
    "    for char in invalid: authors = authors.replace(char, '')\n",
    "\n",
    "    title_proc = title.lower().replace(' ', '_')\n",
    "    for char in invalid: title_proc = title_proc.replace(char, '')\n",
    "\n",
    "    def_authors_regex = re.compile(r'^[a-z]+( [a-z]+)*,')\n",
    "    def_authors_match = re.match(def_authors_regex, authors.lower())\n",
    "\n",
    "    if(('and' not in authors) and (',' not in authors)): # SINGLE AUTHOR\n",
    "        author_proc = authors.split().pop(-1).lower()\n",
    "        cite_key = f\"{author_proc}_{year}_{title_proc}\"\n",
    "    elif(bool(def_authors_match)): # SURNAME(S), NAME(S)\n",
    "        author_proc = def_authors_match[0].replace(',','').replace(' ', '_')\n",
    "        cite_key = f\"{author_proc}_{year}_{title_proc}\"\n",
    "    else: # NAME(S) SURNAME(S) AND ...\n",
    "        ns_authors_regex = re.compile(r'[a-z]+ \\band\\b')\n",
    "        author_proc = ns_authors_regex.search(authors.lower()).group().replace(' and', '')\n",
    "        cite_key = f\"{author_proc}_{year}_{title_proc}\"\n",
    "    \n",
    "    cite_key = cite_key.replace('-', '_')\n",
    "    for char in invalid: cite_key = cite_key.replace(char, '')\n",
    "    \n",
    "    return cite_key"
   ]
  },
  {
   "cell_type": "code",
   "execution_count": 208,
   "metadata": {},
   "outputs": [
    {
     "name": "stdout",
     "output_type": "stream",
     "text": [
      "yang-etal-2017-adapting\n",
      "10.1145/3397271.3401185\n",
      "10.1145/3397271.3401269\n",
      "10.1145/3077136.3084138\n",
      "pergola-etal-2021-disentangled\n",
      "doogan-buntine-2021-topic\n",
      "10.1145/3534678.3542675\n",
      "10.1145/3394486.3403244\n",
      "10.1145/3394486.3403242\n",
      "10.1145/3219819.3220064\n",
      "zhou-jurgens-2020-condolence\n",
      "hu-etal-2020-neural\n",
      "wang-etal-2021-phrase\n",
      "Ferner_2020\n",
      "Barbieri_2017\n",
      "Aletras_2017\n",
      "Zosa_2022\n",
      "zhao-etal-2021-adversarial\n",
      "popa-rebedea-2021-bart\n",
      "sorodoc-etal-2017-multimodal\n",
      "austin-etal-2022-community\n",
      "yin-etal-2022-improving\n",
      "nouri-etal-2020-mining\n",
      "an-etal-2018-model\n",
      "10.1145/3357384.3358048\n",
      "10.1145/3511808.3557410\n",
      "wu-etal-2020-neural\n",
      "card-etal-2018-neural\n",
      "huang-2018-phrasectm\n",
      "maiti-vucetic-2019-spatial\n",
      "lau-etal-2017-topically\n"
     ]
    }
   ],
   "source": [
    "bib_file = '../data/Selection_Conferences_2017-2022.bib'\n",
    "with open(bib_file, 'r') as fp:\n",
    "    db = biblib.bib.Parser().parse(fp, log_fp=sys.stderr).get_entries()\n",
    "\n",
    "for ent in db.values():\n",
    "    print(ent.key)\n",
    "    cite_key = build_cite_key(ent['author'], ent['year'], ent['title'])\n",
    "\n",
    "    with open(bib_file) as r:\n",
    "        text = r.read().replace(ent.key, cite_key)\n",
    "    with open(bib_file, \"w\") as w:\n",
    "        w.write(text)"
   ]
  },
  {
   "cell_type": "code",
   "execution_count": null,
   "metadata": {},
   "outputs": [],
   "source": []
  }
 ],
 "metadata": {
  "kernelspec": {
   "display_name": "Python 3",
   "language": "python",
   "name": "python3"
  },
  "language_info": {
   "codemirror_mode": {
    "name": "ipython",
    "version": 3
   },
   "file_extension": ".py",
   "mimetype": "text/x-python",
   "name": "python",
   "nbconvert_exporter": "python",
   "pygments_lexer": "ipython3",
   "version": "3.9.6"
  },
  "orig_nbformat": 4,
  "vscode": {
   "interpreter": {
    "hash": "31f2aee4e71d21fbe5cf8b01ff0e069b9275f58929596ceb00d14d90e3e16cd6"
   }
  }
 },
 "nbformat": 4,
 "nbformat_minor": 2
}
