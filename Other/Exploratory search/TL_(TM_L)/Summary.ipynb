{
 "cells": [
  {
   "cell_type": "code",
   "execution_count": 1,
   "metadata": {},
   "outputs": [],
   "source": [
    "from math import sqrt\n",
    "from statistics import mean\n",
    "\n",
    "import numpy as np\n",
    "import pandas as pd\n",
    "import matplotlib.pyplot as plt"
   ]
  },
  {
   "cell_type": "code",
   "execution_count": 3,
   "metadata": {},
   "outputs": [
    {
     "name": "stderr",
     "output_type": "stream",
     "text": [
      "<ipython-input-3-02d2bf4ca36d>:2: FutureWarning: The default value of regex will change from True to False in a future version.\n",
      "  df_ieee['Publication Title'] = df_ieee['Publication Title'].str.replace(r'^[0-9]* ', '')\n",
      "<ipython-input-3-02d2bf4ca36d>:3: FutureWarning: The default value of regex will change from True to False in a future version.\n",
      "  df_ieee['Publication Title'] = df_ieee['Publication Title'].str.replace(r'[0-9]+(?:st| st|nd| nd|rd| rd|th| th) ', '')\n"
     ]
    }
   ],
   "source": [
    "df_ieee = pd.read_csv(\"SOURCE/IEEE_Xplore.csv\", sep=',', quotechar='\"')\n",
    "df_ieee['Publication Title'] = df_ieee['Publication Title'].str.replace(r'^[0-9]* ', '')\n",
    "df_ieee['Publication Title'] = df_ieee['Publication Title'].str.replace(r'[0-9]+(?:st| st|nd| nd|rd| rd|th| th) ', '')\n",
    "pd.DataFrame(df_ieee.groupby('Publication Title')['Document Title'].count().sort_values(ascending=False)).to_csv(\"COUNT/IEEE_Xplore_count.csv\")"
   ]
  },
  {
   "cell_type": "code",
   "execution_count": 2,
   "metadata": {},
   "outputs": [
    {
     "name": "stderr",
     "output_type": "stream",
     "text": [
      "<ipython-input-2-d5d20eab38a3>:2: FutureWarning: The default value of regex will change from True to False in a future version.\n",
      "  df_acm[0] = df_acm[0].str.replace(\"Proceedings of the [0-9]+(?:st| st|nd| nd|rd| rd|th| th) \",\"\")\n",
      "<ipython-input-2-d5d20eab38a3>:3: FutureWarning: The default value of regex will change from True to False in a future version.\n",
      "  df_acm[0] = df_acm[0].str.replace(\"Proceedings of the [0-9][0-9][0-9][0-9] \",\"\")\n",
      "<ipython-input-2-d5d20eab38a3>:4: FutureWarning: The default value of regex will change from True to False in a future version.\n",
      "  df_acm[0] = df_acm[0].str.replace(\" \\d+$\",\"\")\n"
     ]
    }
   ],
   "source": [
    "df_acm = pd.read_csv(\"SOURCE/ACM_cleaned.csv\", header=None)\n",
    "df_acm[0] = df_acm[0].str.replace(\"Proceedings of the [0-9]+(?:st| st|nd| nd|rd| rd|th| th) \",\"\")\n",
    "df_acm[0] = df_acm[0].str.replace(\"Proceedings of the [0-9][0-9][0-9][0-9] \",\"\")\n",
    "df_acm[0] = df_acm[0].str.replace(\" \\d+$\",\"\")\n",
    "pd.DataFrame(df_acm.groupby(0)[0].count().sort_values(ascending=False)).to_csv(\"COUNT/ACM_count.csv\")"
   ]
  },
  {
   "cell_type": "code",
   "execution_count": 5,
   "metadata": {},
   "outputs": [],
   "source": [
    "df_springer = pd.read_csv(\"SOURCE/Springer.csv\", sep=',')\n",
    "pd.DataFrame(df_springer.groupby(\"Publication Title\")[\"Publication Title\"].count().sort_values(ascending=False)).to_csv(\"COUNT/Springer_count.csv\")"
   ]
  },
  {
   "cell_type": "code",
   "execution_count": 7,
   "metadata": {},
   "outputs": [],
   "source": [
    "df_sciencedirect = pd.read_csv(\"SOURCE/ScienceDirect.csv\", sep=',', header=None)\n",
    "pd.DataFrame(df_sciencedirect.groupby(0)[0].count().sort_values(ascending=False)).to_csv(\"COUNT/ScienceDirect_count.csv\")"
   ]
  },
  {
   "cell_type": "code",
   "execution_count": 11,
   "metadata": {},
   "outputs": [
    {
     "name": "stderr",
     "output_type": "stream",
     "text": [
      "<ipython-input-11-2392329de022>:14: FutureWarning: The default value of regex will change from True to False in a future version.\n",
      "  df_acl['Venue'] = df_acl['Venue'].str.replace(\"Proceedings of the [0-9]+(?:st| st|nd| nd|rd| rd|th| th) \",\"\")\n",
      "<ipython-input-11-2392329de022>:15: FutureWarning: The default value of regex will change from True to False in a future version.\n",
      "  df_acl['Venue'] = df_acl['Venue'].str.replace(\"Proceedings of the [0-9][0-9][0-9][0-9] \",\"\")\n"
     ]
    },
    {
     "data": {
      "text/plain": [
       "Venue\n",
       "Proceedings of the International Conference on Recent Advances in Natural Language Processing (RANLP 2021)       2\n",
       "Conference of the European Chapter of the Association for Computational Linguistics: Main Volume                 1\n",
       "Conference of the {E}uropean Chapter of the Association for Computational Linguistics: Volume 2, Short Papers    1\n",
       "Findings of the Association for Computational Linguistics: EMNLP 2021                                            1\n",
       "International Conference on Natural Language Generation                                                          1\n",
       "Proceedings of the The 19th Annual Workshop of the Australasian Language Technology Association                  1\n",
       "Name: Venue, dtype: int64"
      ]
     },
     "execution_count": 11,
     "metadata": {},
     "output_type": "execute_result"
    }
   ],
   "source": [
    "df_acl = pd.read_csv(\"ACL_Anthology.csv\", sep=',', escapechar='\\\\')\n",
    "df_acl['Year']=pd.to_numeric(df_acl[\"Year\"])\n",
    "df_acl = df_acl[df_acl['Year'] >= 2017]\n",
    "df_acl\n",
    "\n",
    "cols_to_filter = ['Abstract', 'Title']\n",
    "search_values = [\"topic label\", \"topic labels\", \"topic labeling\", \"topic labelling\"]\n",
    "\n",
    "patt = '|'.join(search_values)\n",
    "\n",
    "mask = df_acl[cols_to_filter].apply(lambda x: x.str.contains(patt, case=False)).any(1)\n",
    "df_acl = df_acl[mask].copy()\n",
    "\n",
    "df_acl['Venue'] = df_acl['Venue'].str.replace(\"Proceedings of the [0-9]+(?:st| st|nd| nd|rd| rd|th| th) \",\"\")\n",
    "df_acl['Venue'] = df_acl['Venue'].str.replace(\"Proceedings of the [0-9][0-9][0-9][0-9] \",\"\")\n",
    "df_acl.groupby('Venue')['Venue'].count().sort_values(ascending=False).to_csv(\"ACL_Anthology_count.csv\")"
   ]
  },
  {
   "cell_type": "code",
   "execution_count": 10,
   "metadata": {},
   "outputs": [
    {
     "data": {
      "text/html": [
       "<div>\n",
       "<style scoped>\n",
       "    .dataframe tbody tr th:only-of-type {\n",
       "        vertical-align: middle;\n",
       "    }\n",
       "\n",
       "    .dataframe tbody tr th {\n",
       "        vertical-align: top;\n",
       "    }\n",
       "\n",
       "    .dataframe thead th {\n",
       "        text-align: right;\n",
       "    }\n",
       "</style>\n",
       "<table border=\"1\" class=\"dataframe\">\n",
       "  <thead>\n",
       "    <tr style=\"text-align: right;\">\n",
       "      <th></th>\n",
       "      <th>Venue</th>\n",
       "    </tr>\n",
       "    <tr>\n",
       "      <th>Venue</th>\n",
       "      <th></th>\n",
       "    </tr>\n",
       "  </thead>\n",
       "  <tbody>\n",
       "    <tr>\n",
       "      <th>Proceedings of the International Conference on Recent Advances in Natural Language Processing (RANLP 2021)</th>\n",
       "      <td>2</td>\n",
       "    </tr>\n",
       "    <tr>\n",
       "      <th>Conference of the European Chapter of the Association for Computational Linguistics: Main Volume</th>\n",
       "      <td>1</td>\n",
       "    </tr>\n",
       "    <tr>\n",
       "      <th>Conference of the {E}uropean Chapter of the Association for Computational Linguistics: Volume 2, Short Papers</th>\n",
       "      <td>1</td>\n",
       "    </tr>\n",
       "    <tr>\n",
       "      <th>Findings of the Association for Computational Linguistics: EMNLP 2021</th>\n",
       "      <td>1</td>\n",
       "    </tr>\n",
       "    <tr>\n",
       "      <th>International Conference on Natural Language Generation</th>\n",
       "      <td>1</td>\n",
       "    </tr>\n",
       "    <tr>\n",
       "      <th>Proceedings of the The 19th Annual Workshop of the Australasian Language Technology Association</th>\n",
       "      <td>1</td>\n",
       "    </tr>\n",
       "  </tbody>\n",
       "</table>\n",
       "</div>"
      ],
      "text/plain": [
       "                                                    Venue\n",
       "Venue                                                    \n",
       "Proceedings of the International Conference on ...      2\n",
       "Conference of the European Chapter of the Assoc...      1\n",
       "Conference of the {E}uropean Chapter of the Ass...      1\n",
       "Findings of the Association for Computational L...      1\n",
       "International Conference on Natural Language Ge...      1\n",
       "Proceedings of the The 19th Annual Workshop of ...      1"
      ]
     },
     "execution_count": 10,
     "metadata": {},
     "output_type": "execute_result"
    }
   ],
   "source": [
    "pd.DataFrame(df_acl.groupby('Venue')['Venue'].count().sort_values(ascending=False))"
   ]
  },
  {
   "cell_type": "code",
   "execution_count": null,
   "metadata": {},
   "outputs": [],
   "source": []
  }
 ],
 "metadata": {
  "kernelspec": {
   "display_name": "Python 3.9.6 64-bit",
   "language": "python",
   "name": "python3"
  },
  "language_info": {
   "codemirror_mode": {
    "name": "ipython",
    "version": 3
   },
   "file_extension": ".py",
   "mimetype": "text/x-python",
   "name": "python",
   "nbconvert_exporter": "python",
   "pygments_lexer": "ipython3",
   "version": "3.9.6"
  },
  "orig_nbformat": 4,
  "vscode": {
   "interpreter": {
    "hash": "31f2aee4e71d21fbe5cf8b01ff0e069b9275f58929596ceb00d14d90e3e16cd6"
   }
  }
 },
 "nbformat": 4,
 "nbformat_minor": 2
}
