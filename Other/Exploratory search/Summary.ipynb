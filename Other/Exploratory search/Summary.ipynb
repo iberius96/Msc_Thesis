{
 "cells": [
  {
   "cell_type": "code",
   "execution_count": 1,
   "metadata": {},
   "outputs": [],
   "source": [
    "from math import sqrt\n",
    "from statistics import mean\n",
    "\n",
    "import numpy as np\n",
    "import pandas as pd\n",
    "import matplotlib.pyplot as plt"
   ]
  },
  {
   "cell_type": "code",
   "execution_count": 53,
   "metadata": {},
   "outputs": [
    {
     "name": "stderr",
     "output_type": "stream",
     "text": [
      "<ipython-input-53-e4bdaa63db8f>:3: FutureWarning: The default value of regex will change from True to False in a future version.\n",
      "  df_ieee['Publication Title'] = df_ieee['Publication Title'].str.replace(r'^[0-9]* ', '')\n",
      "<ipython-input-53-e4bdaa63db8f>:4: FutureWarning: The default value of regex will change from True to False in a future version.\n",
      "  df_ieee['Publication Title'] = df_ieee['Publication Title'].str.replace(r'[0-9]+(?:st| st|nd| nd|rd| rd|th| th) ', '')\n"
     ]
    }
   ],
   "source": [
    "df_ieee = pd.read_csv(\"IEEE_Xplore.csv\", sep=',', quotechar='\"')\n",
    "df_ieee['Publication Title'] = df_ieee['Publication Title'].str.replace(r'^[0-9]* ', '')\n",
    "df_ieee['Publication Title'] = df_ieee['Publication Title'].str.replace(r'[0-9]+(?:st| st|nd| nd|rd| rd|th| th) ', '')\n",
    "pd.DataFrame(df_ieee.groupby('Publication Title')['Document Title'].count().sort_values(ascending=False)).to_csv(\"IEEE_Xplore_count.csv\")"
   ]
  },
  {
   "cell_type": "code",
   "execution_count": 93,
   "metadata": {},
   "outputs": [
    {
     "name": "stderr",
     "output_type": "stream",
     "text": [
      "<ipython-input-93-b5a8d1d70ad9>:2: FutureWarning: The default value of regex will change from True to False in a future version.\n",
      "  df_acm[0] = df_acm[0].str.replace(r'/Proceedings of the [0-9]+(?:st| st|nd| nd|rd| rd|th| th) /gm', '')\n"
     ]
    }
   ],
   "source": [
    "df_acm = pd.read_csv(\"ACM_cleaned.csv\", header=None)\n",
    "df_acm[0] = df_acm[0].str.replace(r'/Proceedings of the [0-9]+(?:st| st|nd| nd|rd| rd|th| th) /gm', '')\n",
    "pd.DataFrame(df_acm.groupby(0)[0].count().sort_values(ascending=False)).to_csv(\"ACM_count.csv\")"
   ]
  },
  {
   "cell_type": "code",
   "execution_count": 97,
   "metadata": {},
   "outputs": [
    {
     "data": {
      "text/html": [
       "<div>\n",
       "<style scoped>\n",
       "    .dataframe tbody tr th:only-of-type {\n",
       "        vertical-align: middle;\n",
       "    }\n",
       "\n",
       "    .dataframe tbody tr th {\n",
       "        vertical-align: top;\n",
       "    }\n",
       "\n",
       "    .dataframe thead th {\n",
       "        text-align: right;\n",
       "    }\n",
       "</style>\n",
       "<table border=\"1\" class=\"dataframe\">\n",
       "  <thead>\n",
       "    <tr style=\"text-align: right;\">\n",
       "      <th></th>\n",
       "      <th>0</th>\n",
       "      <th>1</th>\n",
       "    </tr>\n",
       "  </thead>\n",
       "  <tbody>\n",
       "    <tr>\n",
       "      <th>0</th>\n",
       "      <td>Proceedings of the 26th International Conferen...</td>\n",
       "      <td>NaN</td>\n",
       "    </tr>\n",
       "    <tr>\n",
       "      <th>1</th>\n",
       "      <td>Proceedings of the Fifteenth ACM International...</td>\n",
       "      <td>NaN</td>\n",
       "    </tr>\n",
       "    <tr>\n",
       "      <th>2</th>\n",
       "      <td>Proceedings of the 2019 4th International Conf...</td>\n",
       "      <td>NaN</td>\n",
       "    </tr>\n",
       "    <tr>\n",
       "      <th>3</th>\n",
       "      <td>Proceedings of the 2017 ACM on Conference on I...</td>\n",
       "      <td>NaN</td>\n",
       "    </tr>\n",
       "    <tr>\n",
       "      <th>4</th>\n",
       "      <td>ACM Trans. Knowl. Discov. Data</td>\n",
       "      <td>NaN</td>\n",
       "    </tr>\n",
       "    <tr>\n",
       "      <th>...</th>\n",
       "      <td>...</td>\n",
       "      <td>...</td>\n",
       "    </tr>\n",
       "    <tr>\n",
       "      <th>1432</th>\n",
       "      <td>J. Mach. Learn. Res.</td>\n",
       "      <td>NaN</td>\n",
       "    </tr>\n",
       "    <tr>\n",
       "      <th>1433</th>\n",
       "      <td>The VLDB Journal</td>\n",
       "      <td>NaN</td>\n",
       "    </tr>\n",
       "    <tr>\n",
       "      <th>1434</th>\n",
       "      <td>ACM Comput. Surv.</td>\n",
       "      <td>NaN</td>\n",
       "    </tr>\n",
       "    <tr>\n",
       "      <th>1435</th>\n",
       "      <td>The VLDB Journal</td>\n",
       "      <td>NaN</td>\n",
       "    </tr>\n",
       "    <tr>\n",
       "      <th>1436</th>\n",
       "      <td>J. Mach. Learn. Res.</td>\n",
       "      <td>NaN</td>\n",
       "    </tr>\n",
       "  </tbody>\n",
       "</table>\n",
       "<p>1437 rows × 2 columns</p>\n",
       "</div>"
      ],
      "text/plain": [
       "                                                      0   1\n",
       "0     Proceedings of the 26th International Conferen... NaN\n",
       "1     Proceedings of the Fifteenth ACM International... NaN\n",
       "2     Proceedings of the 2019 4th International Conf... NaN\n",
       "3     Proceedings of the 2017 ACM on Conference on I... NaN\n",
       "4                        ACM Trans. Knowl. Discov. Data NaN\n",
       "...                                                 ...  ..\n",
       "1432                               J. Mach. Learn. Res. NaN\n",
       "1433                                   The VLDB Journal NaN\n",
       "1434                                  ACM Comput. Surv. NaN\n",
       "1435                                   The VLDB Journal NaN\n",
       "1436                               J. Mach. Learn. Res. NaN\n",
       "\n",
       "[1437 rows x 2 columns]"
      ]
     },
     "execution_count": 97,
     "metadata": {},
     "output_type": "execute_result"
    }
   ],
   "source": [
    "df_acm = pd.read_csv(\"ACM_cleaned.csv\", header=None)\n",
    "df_acm[0] = df_acm[0].str.replace(r'/t', '')\n",
    "df_acm"
   ]
  },
  {
   "cell_type": "code",
   "execution_count": null,
   "metadata": {},
   "outputs": [],
   "source": []
  }
 ],
 "metadata": {
  "kernelspec": {
   "display_name": "Python 3.9.6 64-bit",
   "language": "python",
   "name": "python3"
  },
  "language_info": {
   "codemirror_mode": {
    "name": "ipython",
    "version": 3
   },
   "file_extension": ".py",
   "mimetype": "text/x-python",
   "name": "python",
   "nbconvert_exporter": "python",
   "pygments_lexer": "ipython3",
   "version": "3.9.6"
  },
  "orig_nbformat": 4,
  "vscode": {
   "interpreter": {
    "hash": "31f2aee4e71d21fbe5cf8b01ff0e069b9275f58929596ceb00d14d90e3e16cd6"
   }
  }
 },
 "nbformat": 4,
 "nbformat_minor": 2
}
