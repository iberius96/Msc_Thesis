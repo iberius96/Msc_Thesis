{
 "cells": [
  {
   "cell_type": "code",
   "execution_count": 2,
   "metadata": {},
   "outputs": [],
   "source": [
    "from math import sqrt\n",
    "from statistics import mean\n",
    "\n",
    "import numpy as np\n",
    "import pandas as pd\n",
    "import matplotlib.pyplot as plt"
   ]
  },
  {
   "cell_type": "code",
   "execution_count": 21,
   "metadata": {},
   "outputs": [
    {
     "name": "stderr",
     "output_type": "stream",
     "text": [
      "<ipython-input-21-140715b5f60f>:2: FutureWarning: The default value of regex will change from True to False in a future version.\n",
      "  df_ieee['Publication Title'] = df_ieee['Publication Title'].str.replace(r'^[0-9]* ', '')\n",
      "<ipython-input-21-140715b5f60f>:3: FutureWarning: The default value of regex will change from True to False in a future version.\n",
      "  df_ieee['Publication Title'] = df_ieee['Publication Title'].str.replace(r'[0-9]+(?:st| st|nd| nd|rd| rd|th| th) ', '')\n"
     ]
    }
   ],
   "source": [
    "df_ieee = pd.read_csv(\"IEEE_Xplore.csv\", sep=',', quotechar='\"')\n",
    "df_ieee['Publication Title'] = df_ieee['Publication Title'].str.replace(r'^[0-9]* ', '')\n",
    "df_ieee['Publication Title'] = df_ieee['Publication Title'].str.replace(r'[0-9]+(?:st| st|nd| nd|rd| rd|th| th) ', '')\n",
    "pd.DataFrame(df_ieee.groupby('Publication Title')['Document Title'].count().sort_values(ascending=False)).to_csv(\"IEEE_Xplore_count.csv\")"
   ]
  },
  {
   "cell_type": "code",
   "execution_count": 22,
   "metadata": {},
   "outputs": [
    {
     "name": "stderr",
     "output_type": "stream",
     "text": [
      "<ipython-input-22-47a2fcc9860f>:2: FutureWarning: The default value of regex will change from True to False in a future version.\n",
      "  df_acm[0] = df_acm[0].str.replace(\"Proceedings of the [0-9]+(?:st| st|nd| nd|rd| rd|th| th) \",\"\")\n",
      "<ipython-input-22-47a2fcc9860f>:3: FutureWarning: The default value of regex will change from True to False in a future version.\n",
      "  df_acm[0] = df_acm[0].str.replace(\"Proceedings of the [0-9][0-9][0-9][0-9] \",\"\")\n",
      "<ipython-input-22-47a2fcc9860f>:4: FutureWarning: The default value of regex will change from True to False in a future version.\n",
      "  df_acm[0] = df_acm[0].str.replace(\" \\d+$\",\"\")\n"
     ]
    }
   ],
   "source": [
    "df_acm = pd.read_csv(\"ACM_cleaned.csv\", header=None)\n",
    "df_acm[0] = df_acm[0].str.replace(\"Proceedings of the [0-9]+(?:st| st|nd| nd|rd| rd|th| th) \",\"\")\n",
    "df_acm[0] = df_acm[0].str.replace(\"Proceedings of the [0-9][0-9][0-9][0-9] \",\"\")\n",
    "df_acm[0] = df_acm[0].str.replace(\" \\d+$\",\"\")\n",
    "pd.DataFrame(df_acm.groupby(0)[0].count().sort_values(ascending=False)).to_csv(\"ACM_count.csv\")"
   ]
  },
  {
   "cell_type": "code",
   "execution_count": 23,
   "metadata": {},
   "outputs": [],
   "source": [
    "df_springer = pd.read_csv(\"Springer.csv\", sep=',')\n",
    "pd.DataFrame(df_springer.groupby(\"Publication Title\")[\"Publication Title\"].count().sort_values(ascending=False)).to_csv(\"Springer_count.csv\")"
   ]
  },
  {
   "cell_type": "code",
   "execution_count": 24,
   "metadata": {},
   "outputs": [],
   "source": [
    "df_sciencedirect = pd.read_csv(\"ScienceDirect.csv\", sep=',', header=None)\n",
    "pd.DataFrame(df_sciencedirect.groupby(0)[0].count().sort_values(ascending=False)).to_csv(\"ScienceDirect_count.csv\")"
   ]
  },
  {
   "cell_type": "code",
   "execution_count": 16,
   "metadata": {},
   "outputs": [
    {
     "data": {
      "text/html": [
       "<div>\n",
       "<style scoped>\n",
       "    .dataframe tbody tr th:only-of-type {\n",
       "        vertical-align: middle;\n",
       "    }\n",
       "\n",
       "    .dataframe tbody tr th {\n",
       "        vertical-align: top;\n",
       "    }\n",
       "\n",
       "    .dataframe thead th {\n",
       "        text-align: right;\n",
       "    }\n",
       "</style>\n",
       "<table border=\"1\" class=\"dataframe\">\n",
       "  <thead>\n",
       "    <tr style=\"text-align: right;\">\n",
       "      <th></th>\n",
       "      <th>Venue</th>\n",
       "    </tr>\n",
       "    <tr>\n",
       "      <th>Venue</th>\n",
       "      <th></th>\n",
       "    </tr>\n",
       "  </thead>\n",
       "  <tbody>\n",
       "    <tr>\n",
       "      <th>Proceedings of the Twelfth Language Resources and Evaluation Conference</th>\n",
       "      <td>895</td>\n",
       "    </tr>\n",
       "    <tr>\n",
       "      <th>Proceedings of the 2021 Conference on Empirical Methods in Natural Language Processing</th>\n",
       "      <td>847</td>\n",
       "    </tr>\n",
       "    <tr>\n",
       "      <th>Proceedings of the Thirteenth Language Resources and Evaluation Conference</th>\n",
       "      <td>804</td>\n",
       "    </tr>\n",
       "    <tr>\n",
       "      <th>Proceedings of the 58th Annual Meeting of the Association for Computational Linguistics</th>\n",
       "      <td>778</td>\n",
       "    </tr>\n",
       "    <tr>\n",
       "      <th>Proceedings of the 2020 Conference on Empirical Methods in Natural Language Processing (EMNLP)</th>\n",
       "      <td>751</td>\n",
       "    </tr>\n",
       "    <tr>\n",
       "      <th>...</th>\n",
       "      <td>...</td>\n",
       "    </tr>\n",
       "    <tr>\n",
       "      <th>{I}nternational {C}onference on {C}omputational {L}inguistics {COLING} 1969: Index to Preprints</th>\n",
       "      <td>1</td>\n",
       "    </tr>\n",
       "    <tr>\n",
       "      <th>{I}nternational {C}onference on {C}omputational {L}inguistics {COLING} 1969: Bulletin {W}ednesday, {S}eptember 3, 1969</th>\n",
       "      <td>1</td>\n",
       "    </tr>\n",
       "    <tr>\n",
       "      <th>{I}nternational {C}onference on {C}omputational {L}inguistics {COLING} 1969: Bulletin {M}onday, {S}eptember 1, 1969</th>\n",
       "      <td>1</td>\n",
       "    </tr>\n",
       "    <tr>\n",
       "      <th>Linguistic Issues in Language Technology, Volume 16, 2018</th>\n",
       "      <td>1</td>\n",
       "    </tr>\n",
       "    <tr>\n",
       "      <th>Actes de la 13{`e}me conf{'e}rence sur le Traitement Automatique des Langues Naturelles. Tutoriels</th>\n",
       "      <td>1</td>\n",
       "    </tr>\n",
       "  </tbody>\n",
       "</table>\n",
       "<p>2330 rows × 1 columns</p>\n",
       "</div>"
      ],
      "text/plain": [
       "                                                    Venue\n",
       "Venue                                                    \n",
       "Proceedings of the Twelfth Language Resources a...    895\n",
       "Proceedings of the 2021 Conference on Empirical...    847\n",
       "Proceedings of the Thirteenth Language Resource...    804\n",
       "Proceedings of the 58th Annual Meeting of the A...    778\n",
       "Proceedings of the 2020 Conference on Empirical...    751\n",
       "...                                                   ...\n",
       "{I}nternational {C}onference on {C}omputational...      1\n",
       "{I}nternational {C}onference on {C}omputational...      1\n",
       "{I}nternational {C}onference on {C}omputational...      1\n",
       "Linguistic Issues in Language Technology, Volum...      1\n",
       "Actes de la 13{`e}me conf{'e}rence sur le Trait...      1\n",
       "\n",
       "[2330 rows x 1 columns]"
      ]
     },
     "execution_count": 16,
     "metadata": {},
     "output_type": "execute_result"
    }
   ],
   "source": [
    "df_acl = pd.read_csv(\"ACL_Anthology.csv\", sep=',', escapechar='\\\\')\n",
    "pd.DataFrame(df_acl.groupby(\"Venue\")[\"Venue\"].count().sort_values(ascending=False))\n",
    "#.to_csv(\"Springer_count.csv\")"
   ]
  }
 ],
 "metadata": {
  "kernelspec": {
   "display_name": "Python 3.9.6 64-bit",
   "language": "python",
   "name": "python3"
  },
  "language_info": {
   "codemirror_mode": {
    "name": "ipython",
    "version": 3
   },
   "file_extension": ".py",
   "mimetype": "text/x-python",
   "name": "python",
   "nbconvert_exporter": "python",
   "pygments_lexer": "ipython3",
   "version": "3.9.6"
  },
  "orig_nbformat": 4,
  "vscode": {
   "interpreter": {
    "hash": "31f2aee4e71d21fbe5cf8b01ff0e069b9275f58929596ceb00d14d90e3e16cd6"
   }
  }
 },
 "nbformat": 4,
 "nbformat_minor": 2
}
