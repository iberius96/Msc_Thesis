{
 "cells": [
  {
   "cell_type": "code",
   "execution_count": 1,
   "metadata": {},
   "outputs": [],
   "source": [
    "from math import sqrt\n",
    "from statistics import mean\n",
    "\n",
    "import numpy as np\n",
    "import pandas as pd\n",
    "import matplotlib.pyplot as plt"
   ]
  },
  {
   "cell_type": "code",
   "execution_count": 53,
   "metadata": {},
   "outputs": [
    {
     "name": "stderr",
     "output_type": "stream",
     "text": [
      "<ipython-input-53-e4bdaa63db8f>:3: FutureWarning: The default value of regex will change from True to False in a future version.\n",
      "  df_ieee['Publication Title'] = df_ieee['Publication Title'].str.replace(r'^[0-9]* ', '')\n",
      "<ipython-input-53-e4bdaa63db8f>:4: FutureWarning: The default value of regex will change from True to False in a future version.\n",
      "  df_ieee['Publication Title'] = df_ieee['Publication Title'].str.replace(r'[0-9]+(?:st| st|nd| nd|rd| rd|th| th) ', '')\n"
     ]
    }
   ],
   "source": [
    "df_ieee = pd.read_csv(\"IEEE_Xplore.csv\", sep=',', quotechar='\"')\n",
    "df_ieee['Publication Title'] = df_ieee['Publication Title'].str.replace(r'^[0-9]* ', '')\n",
    "df_ieee['Publication Title'] = df_ieee['Publication Title'].str.replace(r'[0-9]+(?:st| st|nd| nd|rd| rd|th| th) ', '')\n",
    "pd.DataFrame(df_ieee.groupby('Publication Title')['Document Title'].count().sort_values(ascending=False)).to_csv(\"IEEE_Xplore_count.csv\")"
   ]
  },
  {
   "cell_type": "code",
   "execution_count": 137,
   "metadata": {},
   "outputs": [
    {
     "name": "stderr",
     "output_type": "stream",
     "text": [
      "<ipython-input-137-47a2fcc9860f>:2: FutureWarning: The default value of regex will change from True to False in a future version.\n",
      "  df_acm[0] = df_acm[0].str.replace(\"Proceedings of the [0-9]+(?:st| st|nd| nd|rd| rd|th| th) \",\"\")\n",
      "<ipython-input-137-47a2fcc9860f>:3: FutureWarning: The default value of regex will change from True to False in a future version.\n",
      "  df_acm[0] = df_acm[0].str.replace(\"Proceedings of the [0-9][0-9][0-9][0-9] \",\"\")\n",
      "<ipython-input-137-47a2fcc9860f>:4: FutureWarning: The default value of regex will change from True to False in a future version.\n",
      "  df_acm[0] = df_acm[0].str.replace(\" \\d+$\",\"\")\n"
     ]
    }
   ],
   "source": [
    "df_acm = pd.read_csv(\"ACM_cleaned.csv\", header=None)\n",
    "df_acm[0] = df_acm[0].str.replace(\"Proceedings of the [0-9]+(?:st| st|nd| nd|rd| rd|th| th) \",\"\")\n",
    "df_acm[0] = df_acm[0].str.replace(\"Proceedings of the [0-9][0-9][0-9][0-9] \",\"\")\n",
    "df_acm[0] = df_acm[0].str.replace(\" \\d+$\",\"\")\n",
    "pd.DataFrame(df_acm.groupby(0)[0].count().sort_values(ascending=False)).to_csv(\"ACM_count.csv\")"
   ]
  },
  {
   "cell_type": "code",
   "execution_count": null,
   "metadata": {},
   "outputs": [],
   "source": []
  }
 ],
 "metadata": {
  "kernelspec": {
   "display_name": "Python 3.9.6 64-bit",
   "language": "python",
   "name": "python3"
  },
  "language_info": {
   "codemirror_mode": {
    "name": "ipython",
    "version": 3
   },
   "file_extension": ".py",
   "mimetype": "text/x-python",
   "name": "python",
   "nbconvert_exporter": "python",
   "pygments_lexer": "ipython3",
   "version": "3.9.6"
  },
  "orig_nbformat": 4,
  "vscode": {
   "interpreter": {
    "hash": "31f2aee4e71d21fbe5cf8b01ff0e069b9275f58929596ceb00d14d90e3e16cd6"
   }
  }
 },
 "nbformat": 4,
 "nbformat_minor": 2
}
