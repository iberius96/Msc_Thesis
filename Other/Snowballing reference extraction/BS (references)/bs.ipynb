{
 "cells": [
  {
   "cell_type": "code",
   "execution_count": 3,
   "metadata": {},
   "outputs": [
    {
     "name": "stdout",
     "output_type": "stream",
     "text": [
      "{'paperId': '6296d4d142de31f33d4e58717325bc631f39ef51', 'title': \"Large Scale Analysis of Open MOOC Reviews to Support Learners' Course Selection\", 'citations': [{'paperId': '171aefee935033bcd7ac65b99838094111fabfe6', 'title': 'PPAR: A Privacy-Preserving Adaptive Ranking Algorithm for Multi-Armed-Bandit Crowdsourcing'}, {'paperId': '47b90902d0fdd20252fa2cc0a1ed7b2d64065204', 'title': 'Coursera y la plataformización de la educación: operación de mercados, datificación y gobernanza'}]}\n"
     ]
    },
    {
     "ename": "KeyError",
     "evalue": "'references'",
     "output_type": "error",
     "traceback": [
      "\u001b[0;31m---------------------------------------------------------------------------\u001b[0m",
      "\u001b[0;31mKeyError\u001b[0m                                  Traceback (most recent call last)",
      "\u001b[0;32m<ipython-input-3-ff9018b58fa8>\u001b[0m in \u001b[0;36m<module>\u001b[0;34m\u001b[0m\n\u001b[1;32m     11\u001b[0m \u001b[0;34m\u001b[0m\u001b[0m\n\u001b[1;32m     12\u001b[0m         \u001b[0mprint\u001b[0m\u001b[0;34m(\u001b[0m\u001b[0mjson_content\u001b[0m\u001b[0;34m)\u001b[0m\u001b[0;34m\u001b[0m\u001b[0;34m\u001b[0m\u001b[0m\n\u001b[0;32m---> 13\u001b[0;31m         \u001b[0;32mfor\u001b[0m \u001b[0mreference\u001b[0m \u001b[0;32min\u001b[0m \u001b[0mjson_content\u001b[0m\u001b[0;34m[\u001b[0m\u001b[0;34m'references'\u001b[0m\u001b[0;34m]\u001b[0m\u001b[0;34m:\u001b[0m\u001b[0;34m\u001b[0m\u001b[0;34m\u001b[0m\u001b[0m\n\u001b[0m\u001b[1;32m     14\u001b[0m             \u001b[0;32mif\u001b[0m \u001b[0mtype\u001b[0m\u001b[0;34m(\u001b[0m\u001b[0mreference\u001b[0m\u001b[0;34m[\u001b[0m\u001b[0;34m'paperId'\u001b[0m\u001b[0;34m]\u001b[0m\u001b[0;34m)\u001b[0m \u001b[0;34m==\u001b[0m \u001b[0mtype\u001b[0m\u001b[0;34m(\u001b[0m\u001b[0;32mNone\u001b[0m\u001b[0;34m)\u001b[0m\u001b[0;34m:\u001b[0m\u001b[0;34m\u001b[0m\u001b[0;34m\u001b[0m\u001b[0m\n\u001b[1;32m     15\u001b[0m                 \u001b[0mprint\u001b[0m\u001b[0;34m(\u001b[0m\u001b[0mreference\u001b[0m\u001b[0;34m)\u001b[0m\u001b[0;34m\u001b[0m\u001b[0;34m\u001b[0m\u001b[0m\n",
      "\u001b[0;31mKeyError\u001b[0m: 'references'"
     ]
    }
   ],
   "source": [
    "import os, json, urllib.request, csv\n",
    "\n",
    "directory = 'BS references/'\n",
    "\n",
    "\n",
    "for filename in os.listdir(directory):\n",
    "    with open(directory + filename, 'r') as fcc_file:\n",
    "        json_content = json.load(fcc_file)\n",
    "\n",
    "        output_txt = open('output/' + json_content['title'].replace(\"'\",\"\").replace(\" \", \"_\") + \".txt\", 'w')\n",
    "        \n",
    "        print(json_content)\n",
    "        for reference in json_content['references']:\n",
    "            if type(reference['paperId']) == type(None):\n",
    "                print(reference)\n",
    "                continue\n",
    "\n",
    "            reference_link = 'https://api.semanticscholar.org/graph/v1/paper/' + reference['paperId'] + '?fields=title,externalIds'\n",
    "\n",
    "            with urllib.request.urlopen(reference_link) as url:\n",
    "                reference_externalIds = json.load(url)['externalIds']\n",
    "\n",
    "                if(\"DOI\" in reference_externalIds):\n",
    "                    output_txt.write(reference_externalIds[\"DOI\"] + \"\\n\")\n",
    "                else:\n",
    "                    output_txt.write(reference['title'] + \"\\n\")\n",
    "        output_txt.close()\n",
    "    os.remove(directory + filename)"
   ]
  },
  {
   "cell_type": "code",
   "execution_count": 26,
   "metadata": {},
   "outputs": [
    {
     "data": {
      "text/plain": [
       "{'paperId': None,\n",
       " 'title': 'Classify product categories Classify reply categories Build interaction graph Build supply chain'}"
      ]
     },
     "execution_count": 26,
     "metadata": {},
     "output_type": "execute_result"
    }
   ],
   "source": [
    "{'paperId': None, 'title': 'Classify product categories Classify reply categories Build interaction graph Build supply chain'}\n"
   ]
  },
  {
   "cell_type": "code",
   "execution_count": 29,
   "metadata": {},
   "outputs": [],
   "source": [
    "# Renames input files to match paper title\n",
    "import os, json, urllib.request, csv\n",
    "\n",
    "directory = 'SS references/'\n",
    "\n",
    "\n",
    "for filename in os.listdir(directory):\n",
    "    with open(directory + filename, 'r') as fcc_file:\n",
    "        json_content = json.load(fcc_file)\n",
    "\n",
    "        file_title = json_content['title'].replace(\"'\",\"\").replace(\" \", \"_\")\n",
    "        os.rename(directory + filename, directory + file_title + '.json')"
   ]
  }
 ],
 "metadata": {
  "kernelspec": {
   "display_name": "Python 3.9.6 64-bit",
   "language": "python",
   "name": "python3"
  },
  "language_info": {
   "codemirror_mode": {
    "name": "ipython",
    "version": 3
   },
   "file_extension": ".py",
   "mimetype": "text/x-python",
   "name": "python",
   "nbconvert_exporter": "python",
   "pygments_lexer": "ipython3",
   "version": "3.9.6"
  },
  "orig_nbformat": 4,
  "vscode": {
   "interpreter": {
    "hash": "31f2aee4e71d21fbe5cf8b01ff0e069b9275f58929596ceb00d14d90e3e16cd6"
   }
  }
 },
 "nbformat": 4,
 "nbformat_minor": 2
}
