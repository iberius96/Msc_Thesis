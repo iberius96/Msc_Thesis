{
 "cells": [
  {
   "cell_type": "code",
   "execution_count": 36,
   "metadata": {},
   "outputs": [],
   "source": [
    "import os, json, urllib.request, csv\n",
    "\n",
    "directory = 'SS citations/'\n",
    "\n",
    "\n",
    "for filename in os.listdir(directory):\n",
    "    with open(directory + filename, 'r') as fcc_file:\n",
    "        json_content = json.load(fcc_file)\n",
    "\n",
    "        output_txt = open('output/' + json_content['title'].replace(\"'\",\"\").replace(\" \", \"_\"), 'w')\n",
    "        \n",
    "        for citation in json_content['citations']:\n",
    "            if type(citation['paperId']) == type(None):\n",
    "                print(citation)\n",
    "                continue\n",
    "\n",
    "            citation_link = 'https://api.semanticscholar.org/graph/v1/paper/' + citation['paperId'] + '?fields=title,externalIds'\n",
    "\n",
    "            with urllib.request.urlopen(citation_link) as url:\n",
    "                citation_externalIds = json.load(url)['externalIds']\n",
    "\n",
    "                if(\"DOI\" in citation_externalIds):\n",
    "                    output_txt.write(citation_externalIds[\"DOI\"] + \"\\n\")\n",
    "                else:\n",
    "                    output_txt.write(citation['title'] + \"\\n\")\n",
    "        output_txt.close()\n",
    "    os.remove(directory + filename)"
   ]
  },
  {
   "cell_type": "code",
   "execution_count": 26,
   "metadata": {},
   "outputs": [
    {
     "data": {
      "text/plain": [
       "{'paperId': None,\n",
       " 'title': 'Classify product categories Classify reply categories Build interaction graph Build supply chain'}"
      ]
     },
     "execution_count": 26,
     "metadata": {},
     "output_type": "execute_result"
    }
   ],
   "source": [
    "{'paperId': None, 'title': 'Classify product categories Classify reply categories Build interaction graph Build supply chain'}\n"
   ]
  },
  {
   "cell_type": "code",
   "execution_count": 29,
   "metadata": {},
   "outputs": [],
   "source": [
    "# Renames input files to match paper title\n",
    "import os, json, urllib.request, csv\n",
    "\n",
    "directory = 'SS citations/'\n",
    "\n",
    "\n",
    "for filename in os.listdir(directory):\n",
    "    with open(directory + filename, 'r') as fcc_file:\n",
    "        json_content = json.load(fcc_file)\n",
    "\n",
    "        file_title = json_content['title'].replace(\"'\",\"\").replace(\" \", \"_\")\n",
    "        os.rename(directory + filename, directory + file_title + '.json')"
   ]
  },
  {
   "cell_type": "code",
   "execution_count": 1,
   "metadata": {},
   "outputs": [
    {
     "name": "stdout",
     "output_type": "stream",
     "text": [
      "10.48550/arXiv.2210.16162\n",
      "\n",
      "10.1145/3511808.3557410\n",
      "\n",
      "10.1016/j.eswa.2022.118442\n",
      "\n",
      "10.1162/tacl_a_00487\n",
      "\n",
      "10.3844/jcssp.2022.18.25\n",
      "\n",
      "10.1017/s1351324922000031\n",
      "\n",
      "10.1145/3486622.3493968\n",
      "\n",
      "10.1145/3447548.3467410\n",
      "\n",
      "10.18653/V1/2021.NLP4IF-1.8\n",
      "\n",
      "10.24963/ijcai.2021/638\n",
      "\n",
      "10.18653/v1/2021.acl-long.230\n",
      "\n",
      "10.18653/v1/2020.nuse-1.14\n",
      "\n",
      "10.1162/tacl_a_00315\n",
      "\n",
      "10.4000/books.aaccademia.8940\n",
      "\n",
      "10.18653/v1/D19-1513\n",
      "\n",
      "10.18653/v1/N19-1163\n",
      "\n",
      "10.18653/v1/N19-1015\n",
      "\n",
      "10.1016/j.neucom.2019.01.002\n",
      "\n"
     ]
    }
   ],
   "source": [
    "# DOWNLOADS Papers from scihub\n",
    "import os, json, urllib.request, csv\n",
    "\n",
    "for filename in os.listdir('output/'):\n",
    "    if(filename == '.DS_Store'):\n",
    "        continue\n",
    "\n",
    "    output_txt = open('output/' + filename, 'r+')\n",
    "\n",
    "    for line in output_txt:\n",
    "        if(not line.startswith('10.')):\n",
    "            continue\n",
    "\n",
    "        init_count = len(os.listdir('../FS reference extraction'))\n",
    "        os.system(str('scidownl download --doi https://doi.org/' + line + ' --out ./papers/')) \n",
    "\n",
    "        if(init_count == len(os.listdir('../FS reference extraction'))):\n",
    "            print(line)"
   ]
  },
  {
   "cell_type": "code",
   "execution_count": null,
   "metadata": {},
   "outputs": [],
   "source": []
  }
 ],
 "metadata": {
  "kernelspec": {
   "display_name": "Python 3.9.6 64-bit",
   "language": "python",
   "name": "python3"
  },
  "language_info": {
   "codemirror_mode": {
    "name": "ipython",
    "version": 3
   },
   "file_extension": ".py",
   "mimetype": "text/x-python",
   "name": "python",
   "nbconvert_exporter": "python",
   "pygments_lexer": "ipython3",
   "version": "3.9.6"
  },
  "orig_nbformat": 4,
  "vscode": {
   "interpreter": {
    "hash": "31f2aee4e71d21fbe5cf8b01ff0e069b9275f58929596ceb00d14d90e3e16cd6"
   }
  }
 },
 "nbformat": 4,
 "nbformat_minor": 2
}
