{
 "cells": [
  {
   "cell_type": "code",
   "execution_count": 1,
   "metadata": {},
   "outputs": [
    {
     "name": "stdout",
     "output_type": "stream",
     "text": [
      "\u001b[1m[INFO]\u001b[0m | \u001b[32m2022/10/27 10:29:58\u001b[0m | \u001b[1mRun scihub tasks. Tasks information: \u001b[0m\n",
      "\u001b[1m[INFO]\u001b[0m | \u001b[32m2022/10/27 10:29:58\u001b[0m | \u001b[1m         DOI(s): ['https://doi.org/10.1145/3459637.3482253']\u001b[0m\n",
      "\u001b[1m[INFO]\u001b[0m | \u001b[32m2022/10/27 10:29:58\u001b[0m | \u001b[1m         Output: ./output/\u001b[0m\n",
      "\u001b[1m[INFO]\u001b[0m | \u001b[32m2022/10/27 10:29:58\u001b[0m | \u001b[1m     SciHub Url: <auto.availability_first>\u001b[0m\n",
      "\u001b[1m[INFO]\u001b[0m | \u001b[32m2022/10/27 10:29:58\u001b[0m | \u001b[1mChoose scihub url [0]: https://sci-hub.ru\u001b[0m\n",
      "\u001b[1m[INFO]\u001b[0m | \u001b[32m2022/10/27 10:29:58\u001b[0m | \u001b[1m<- Request: scihub_url=https://sci-hub.ru, source=DoiSource[type=doi, id=doi.org/10.1145/3459637.3482253], proxies={}\u001b[0m\n",
      "\u001b[1m[INFO]\u001b[0m | \u001b[32m2022/10/27 10:29:58\u001b[0m | \u001b[1m-> Response: status_code=200, content_length=5832\u001b[0m\n",
      "\u001b[33m\u001b[1m[WARNING]\u001b[0m | \u001b[32m2022/10/27 10:29:58\u001b[0m | \u001b[33m\u001b[1mError occurs, task status: extracting_failed, error: No pdf tag was found in the given content with the selector: #pdf\u001b[0m\n",
      "\u001b[1m[INFO]\u001b[0m | \u001b[32m2022/10/27 10:29:58\u001b[0m | \u001b[1mChoose scihub url [1]: https://sci-hub.st\u001b[0m\n",
      "\u001b[1m[INFO]\u001b[0m | \u001b[32m2022/10/27 10:29:58\u001b[0m | \u001b[1m<- Request: scihub_url=https://sci-hub.st, source=DoiSource[type=doi, id=doi.org/10.1145/3459637.3482253], proxies={}\u001b[0m\n",
      "\u001b[1m[INFO]\u001b[0m | \u001b[32m2022/10/27 10:30:03\u001b[0m | \u001b[1m-> Response: status_code=200, content_length=24\u001b[0m\n",
      "\u001b[33m\u001b[1m[WARNING]\u001b[0m | \u001b[32m2022/10/27 10:30:03\u001b[0m | \u001b[33m\u001b[1mError occurs, task status: extracting_failed, error: No pdf tag was found in the given content with the selector: #pdf\u001b[0m\n",
      "\u001b[1m[INFO]\u001b[0m | \u001b[32m2022/10/27 10:30:03\u001b[0m | \u001b[1mChoose scihub url [2]: http://sci-hub.ru\u001b[0m\n",
      "\u001b[1m[INFO]\u001b[0m | \u001b[32m2022/10/27 10:30:03\u001b[0m | \u001b[1m<- Request: scihub_url=http://sci-hub.ru, source=DoiSource[type=doi, id=doi.org/10.1145/3459637.3482253], proxies={}\u001b[0m\n",
      "\u001b[1m[INFO]\u001b[0m | \u001b[32m2022/10/27 10:30:04\u001b[0m | \u001b[1m-> Response: status_code=200, content_length=5832\u001b[0m\n",
      "\u001b[33m\u001b[1m[WARNING]\u001b[0m | \u001b[32m2022/10/27 10:30:04\u001b[0m | \u001b[33m\u001b[1mError occurs, task status: extracting_failed, error: No pdf tag was found in the given content with the selector: #pdf\u001b[0m\n",
      "\u001b[1m[INFO]\u001b[0m | \u001b[32m2022/10/27 10:30:04\u001b[0m | \u001b[1mChoose scihub url [3]: http://sci-hub.wf\u001b[0m\n",
      "\u001b[1m[INFO]\u001b[0m | \u001b[32m2022/10/27 10:30:04\u001b[0m | \u001b[1m<- Request: scihub_url=http://sci-hub.wf, source=DoiSource[type=doi, id=doi.org/10.1145/3459637.3482253], proxies={}\u001b[0m\n",
      "\u001b[1m[INFO]\u001b[0m | \u001b[32m2022/10/27 10:30:05\u001b[0m | \u001b[1m-> Response: status_code=200, content_length=39387\u001b[0m\n",
      "\u001b[33m\u001b[1m[WARNING]\u001b[0m | \u001b[32m2022/10/27 10:30:05\u001b[0m | \u001b[33m\u001b[1mError occurs, task status: extracting_failed, error: No pdf tag was found in the given content with the selector: #pdf\u001b[0m\n",
      "\u001b[1m[INFO]\u001b[0m | \u001b[32m2022/10/27 10:30:05\u001b[0m | \u001b[1mChoose scihub url [4]: https://sci-hub.wf\u001b[0m\n",
      "\u001b[1m[INFO]\u001b[0m | \u001b[32m2022/10/27 10:30:05\u001b[0m | \u001b[1m<- Request: scihub_url=https://sci-hub.wf, source=DoiSource[type=doi, id=doi.org/10.1145/3459637.3482253], proxies={}\u001b[0m\n",
      "\u001b[1m[INFO]\u001b[0m | \u001b[32m2022/10/27 10:30:06\u001b[0m | \u001b[1m-> Response: status_code=200, content_length=39072\u001b[0m\n",
      "\u001b[33m\u001b[1m[WARNING]\u001b[0m | \u001b[32m2022/10/27 10:30:06\u001b[0m | \u001b[33m\u001b[1mError occurs, task status: extracting_failed, error: No pdf tag was found in the given content with the selector: #pdf\u001b[0m\n",
      "\u001b[1m[INFO]\u001b[0m | \u001b[32m2022/10/27 10:30:06\u001b[0m | \u001b[1mChoose scihub url [5]: http://sci-hub.tf\u001b[0m\n",
      "\u001b[1m[INFO]\u001b[0m | \u001b[32m2022/10/27 10:30:06\u001b[0m | \u001b[1m<- Request: scihub_url=http://sci-hub.tf, source=DoiSource[type=doi, id=doi.org/10.1145/3459637.3482253], proxies={}\u001b[0m\n",
      "\u001b[1m[INFO]\u001b[0m | \u001b[32m2022/10/27 10:30:08\u001b[0m | \u001b[1m-> Response: status_code=200, content_length=39639\u001b[0m\n",
      "\u001b[33m\u001b[1m[WARNING]\u001b[0m | \u001b[32m2022/10/27 10:30:08\u001b[0m | \u001b[33m\u001b[1mError occurs, task status: extracting_failed, error: No pdf tag was found in the given content with the selector: #pdf\u001b[0m\n",
      "\u001b[1m[INFO]\u001b[0m | \u001b[32m2022/10/27 10:30:08\u001b[0m | \u001b[1mChoose scihub url [6]: https://sci-hub.tf\u001b[0m\n",
      "\u001b[1m[INFO]\u001b[0m | \u001b[32m2022/10/27 10:30:08\u001b[0m | \u001b[1m<- Request: scihub_url=https://sci-hub.tf, source=DoiSource[type=doi, id=doi.org/10.1145/3459637.3482253], proxies={}\u001b[0m\n",
      "\u001b[1m[INFO]\u001b[0m | \u001b[32m2022/10/27 10:30:10\u001b[0m | \u001b[1m-> Response: status_code=200, content_length=39668\u001b[0m\n",
      "\u001b[33m\u001b[1m[WARNING]\u001b[0m | \u001b[32m2022/10/27 10:30:10\u001b[0m | \u001b[33m\u001b[1mError occurs, task status: extracting_failed, error: No pdf tag was found in the given content with the selector: #pdf\u001b[0m\n",
      "\u001b[1m[INFO]\u001b[0m | \u001b[32m2022/10/27 10:30:10\u001b[0m | \u001b[1mChoose scihub url [7]: http://sci-hub.se\u001b[0m\n",
      "\u001b[1m[INFO]\u001b[0m | \u001b[32m2022/10/27 10:30:10\u001b[0m | \u001b[1m<- Request: scihub_url=http://sci-hub.se, source=DoiSource[type=doi, id=doi.org/10.1145/3459637.3482253], proxies={}\u001b[0m\n",
      "\u001b[33m\u001b[1m[WARNING]\u001b[0m | \u001b[32m2022/10/27 10:30:10\u001b[0m | \u001b[33m\u001b[1mError occurs, task status: crawling_failed, error: HTTPConnectionPool(host='sci-hub.se', port=80): Max retries exceeded with url: / (Caused by NewConnectionError('<urllib3.connection.HTTPConnection object at 0x7f9d01f33450>: Failed to establish a new connection: [Errno 61] Connection refused'))\u001b[0m\n",
      "\u001b[1m[INFO]\u001b[0m | \u001b[32m2022/10/27 10:30:10\u001b[0m | \u001b[1mChoose scihub url [8]: http://sci-hub.st\u001b[0m\n",
      "\u001b[1m[INFO]\u001b[0m | \u001b[32m2022/10/27 10:30:10\u001b[0m | \u001b[1m<- Request: scihub_url=http://sci-hub.st, source=DoiSource[type=doi, id=doi.org/10.1145/3459637.3482253], proxies={}\u001b[0m\n",
      "\u001b[1m[INFO]\u001b[0m | \u001b[32m2022/10/27 10:30:15\u001b[0m | \u001b[1m-> Response: status_code=200, content_length=37\u001b[0m\n",
      "/Library/Frameworks/Python.framework/Versions/3.7/lib/python3.7/site-packages/beautifulsoup4-4.11.1-py3.7.egg/bs4/__init__.py:439: MarkupResemblesLocatorWarning: The input looks more like a filename than markup. You may want to open this file and pass the filehandle into Beautiful Soup.\n",
      "  MarkupResemblesLocatorWarning\n",
      "\u001b[33m\u001b[1m[WARNING]\u001b[0m | \u001b[32m2022/10/27 10:30:15\u001b[0m | \u001b[33m\u001b[1mError occurs, task status: extracting_failed, error: No pdf tag was found in the given content with the selector: #pdf\u001b[0m\n",
      "\u001b[1m[INFO]\u001b[0m | \u001b[32m2022/10/27 10:30:15\u001b[0m | \u001b[1mChoose scihub url [9]: https://sci-hub.se\u001b[0m\n",
      "\u001b[1m[INFO]\u001b[0m | \u001b[32m2022/10/27 10:30:15\u001b[0m | \u001b[1m<- Request: scihub_url=https://sci-hub.se, source=DoiSource[type=doi, id=doi.org/10.1145/3459637.3482253], proxies={}\u001b[0m\n",
      "\u001b[33m\u001b[1m[WARNING]\u001b[0m | \u001b[32m2022/10/27 10:30:15\u001b[0m | \u001b[33m\u001b[1mError occurs, task status: crawling_failed, error: HTTPSConnectionPool(host='sci-hub.se', port=443): Max retries exceeded with url: / (Caused by NewConnectionError('<urllib3.connection.HTTPSConnection object at 0x7f9d043c8510>: Failed to establish a new connection: [Errno 61] Connection refused'))\u001b[0m\n",
      "\u001b[31m\u001b[1m[ERROR]\u001b[0m | \u001b[32m2022/10/27 10:30:15\u001b[0m | \u001b[31m\u001b[1mFailed to download the paper: https://doi.org/10.1145/3459637.3482253. Please try again.\u001b[0m\n"
     ]
    }
   ],
   "source": [
    "!scidownl download --doi https://doi.org/10.1145/3459637.3482253 --out ./output/ \n"
   ]
  },
  {
   "cell_type": "code",
   "execution_count": null,
   "metadata": {},
   "outputs": [],
   "source": []
  }
 ],
 "metadata": {
  "kernelspec": {
   "display_name": "Python 3.9.6 64-bit",
   "language": "python",
   "name": "python3"
  },
  "language_info": {
   "codemirror_mode": {
    "name": "ipython",
    "version": 3
   },
   "file_extension": ".py",
   "mimetype": "text/x-python",
   "name": "python",
   "nbconvert_exporter": "python",
   "pygments_lexer": "ipython3",
   "version": "3.9.6"
  },
  "orig_nbformat": 4,
  "vscode": {
   "interpreter": {
    "hash": "31f2aee4e71d21fbe5cf8b01ff0e069b9275f58929596ceb00d14d90e3e16cd6"
   }
  }
 },
 "nbformat": 4,
 "nbformat_minor": 2
}
